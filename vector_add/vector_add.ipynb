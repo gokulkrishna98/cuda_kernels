{
  "nbformat": 4,
  "nbformat_minor": 0,
  "metadata": {
    "colab": {
      "provenance": [],
      "gpuType": "T4"
    },
    "kernelspec": {
      "name": "python3",
      "display_name": "Python 3"
    },
    "language_info": {
      "name": "python"
    },
    "accelerator": "GPU"
  },
  "cells": [
    {
      "cell_type": "code",
      "source": [
        "!pip install Ninja"
      ],
      "metadata": {
        "colab": {
          "base_uri": "https://localhost:8080/"
        },
        "id": "Jv70DKVukHQf",
        "outputId": "43758e04-1905-49c3-9948-e8aa3a6c5abb"
      },
      "execution_count": 1,
      "outputs": [
        {
          "output_type": "stream",
          "name": "stdout",
          "text": [
            "Requirement already satisfied: Ninja in /usr/local/lib/python3.11/dist-packages (1.11.1.3)\n"
          ]
        }
      ]
    },
    {
      "cell_type": "code",
      "execution_count": 2,
      "metadata": {
        "id": "udJtkQ10kDK2"
      },
      "outputs": [],
      "source": [
        "import os\n",
        "import math\n",
        "\n",
        "import torch\n",
        "from torch.nn import functional as F\n",
        "from torch.utils.cpp_extension import load_inline"
      ]
    },
    {
      "cell_type": "code",
      "source": [
        "import os\n",
        "import math\n",
        "\n",
        "import torch\n",
        "from torch.nn import functional as F\n",
        "from torch.utils.cpp_extension import load_inline\n",
        "\n",
        "cuda_src = '''\n",
        "#include <cuda_fp16.h>\n",
        "#include <torch/extension.h>\n",
        "__global__\n",
        "void forward_kernel(half* A, half* B, half* O, int n, int m) {\n",
        "    int x = blockIdx.x;\n",
        "    int y = blockIdx.y * blockDim.x + threadIdx.x;\n",
        "\n",
        "    if (x < m) {\n",
        "        O[x*m + y] = __hadd(A[x*m + y], B[x*m + y]);\n",
        "    }\n",
        "}\n",
        "\n",
        "torch::Tensor forward(torch::Tensor A, torch::Tensor B) {\n",
        "    auto O = torch::zeros_like(A);\n",
        "    torch::Device device(torch::kCUDA);\n",
        "    O = O.to(device);\n",
        "\n",
        "    int n = static_cast<int>(A.size(0));\n",
        "    int m = static_cast<int>(A.size(1));\n",
        "\n",
        "    int num_threads = 1024;\n",
        "    dim3 grid_dim(m, (num_threads + n - 1)/num_threads);\n",
        "    dim3 block_dim(num_threads);\n",
        "\n",
        "    forward_kernel<<<grid_dim, block_dim>>>(\n",
        "        reinterpret_cast<half*>(A.data_ptr<c10::Half>()),\n",
        "        reinterpret_cast<half*>(B.data_ptr<c10::Half>()),\n",
        "        reinterpret_cast<half*>(O.data_ptr<c10::Half>()),\n",
        "        n,\n",
        "        m\n",
        "    );\n",
        "\n",
        "    return O;\n",
        "}\n",
        "'''\n",
        "\n",
        "cpp_src = 'torch::Tensor forward(torch::Tensor A, torch::Tensor B);'\n",
        "\n",
        "build_dir = 'cuda'\n",
        "if not os.path.exists(build_dir):\n",
        "    os.mkdir(build_dir)\n",
        "\n",
        "os.environ['TORCH_CUDA_ARCH_LIST'] = \"7.5\"\n",
        "\n",
        "vec_add = load_inline(\n",
        "    name='vec_add',\n",
        "    cpp_sources=cpp_src,\n",
        "    cuda_sources=cuda_src,\n",
        "    functions=['forward'],\n",
        "    with_cuda=True,\n",
        "    extra_cuda_cflags=[\"-arch=sm_75\"],\n",
        "    build_directory=f'./{build_dir}'\n",
        ")\n",
        "\n"
      ],
      "metadata": {
        "id": "n-a52xIYvwkT",
        "colab": {
          "base_uri": "https://localhost:8080/"
        },
        "outputId": "d3514fd4-916f-45be-93e9-8cb44f47ee50"
      },
      "execution_count": 8,
      "outputs": [
        {
          "output_type": "stream",
          "name": "stdout",
          "text": [
            "=== profiling g_sort === \n",
            "-------------------------  ------------  ------------  ------------  ------------  ------------  ------------  ------------  ------------  ------------  ------------  \n",
            "                     Name    Self CPU %      Self CPU   CPU total %     CPU total  CPU time avg     Self CUDA   Self CUDA %    CUDA total  CUDA time avg    # of Calls  \n",
            "-------------------------  ------------  ------------  ------------  ------------  ------------  ------------  ------------  ------------  ------------  ------------  \n",
            "         aten::zeros_like         1.20%     206.227us        21.95%       3.757ms       3.757ms     209.000us         3.47%       6.021ms       6.021ms             1  \n",
            "              aten::zero_        17.00%       2.909ms        17.35%       2.969ms       2.969ms       2.907ms        48.26%       5.236ms       5.236ms             1  \n",
            "              aten::fill_         0.18%      30.348us         0.28%      47.873us      47.873us       2.329ms        38.67%       2.329ms       2.329ms             1  \n",
            "         aten::empty_like         1.37%     233.753us         3.33%     570.306us     570.306us     235.000us         3.90%     576.000us     576.000us             1  \n",
            "      aten::empty_strided         0.29%      50.360us         1.91%     326.230us     326.230us     341.000us         5.66%     341.000us     341.000us             1  \n",
            "                 aten::to         0.01%       2.347us         0.01%       2.347us       2.347us       2.000us         0.03%       2.000us       2.000us             1  \n",
            "          cudaEventRecord         0.34%      58.317us         0.34%      58.317us       4.860us       0.000us         0.00%       0.000us       0.000us            12  \n",
            "    cudaStreamIsCapturing         0.01%       2.300us         0.01%       2.300us       2.300us       0.000us         0.00%       0.000us       0.000us             1  \n",
            "               cudaMalloc         1.60%     273.570us         1.60%     273.570us     273.570us       0.000us         0.00%       0.000us       0.000us             1  \n",
            "         cudaLaunchKernel         0.15%      25.270us         0.15%      25.270us      12.635us       0.000us         0.00%       0.000us       0.000us             2  \n",
            "-------------------------  ------------  ------------  ------------  ------------  ------------  ------------  ------------  ------------  ------------  ------------  \n",
            "Self CPU time total: 17.115ms\n",
            "Self CUDA time total: 6.023ms\n",
            "\n"
          ]
        },
        {
          "output_type": "stream",
          "name": "stderr",
          "text": [
            "<ipython-input-8-120dcab2f761>:72: FutureWarning: The attribute `use_cuda` will be deprecated soon, please use ``use_device = 'cuda'`` instead.\n",
            "  with torch.autograd.profiler.profile(use_cuda=True) as prof:\n"
          ]
        }
      ]
    },
    {
      "cell_type": "markdown",
      "source": [],
      "metadata": {
        "id": "d6lyCCzGaPO_"
      }
    },
    {
      "cell_type": "markdown",
      "source": [],
      "metadata": {
        "id": "8jwANAApaPnO"
      }
    },
    {
      "cell_type": "code",
      "source": [
        "sizes = [1024, 2048, 4096, 8192, 16384, 20000]\n",
        "seed = 4052\n",
        "gen = torch.Generator(device='cuda')\n",
        "gen.manual_seed(seed)\n",
        "\n",
        "print('=== profiling vector add === ')\n",
        "for size in sizes:\n",
        "  print(f\"------------ vector add on size {size} ------------------------------------\")\n",
        "  a = torch.randn(size, size, device='cuda', dtype=torch.float16, generator=gen).contiguous()\n",
        "  b = torch.randn(size, size, device='cuda', dtype=torch.float16, generator=gen).contiguous()\n",
        "  with torch.autograd.profiler.profile(use_cuda=True) as prof:\n",
        "    result = vec_add.forward(a, b)\n",
        "  print(prof.key_averages().table(sort_by='cuda_time_total', row_limit=10))\n",
        "  ref = a + b\n",
        "  # print(result)\n",
        "  # print(ref)\n",
        "  print('attn values sanity check:', torch.allclose(result, ref, rtol=0, atol=1e-02))"
      ],
      "metadata": {
        "colab": {
          "base_uri": "https://localhost:8080/"
        },
        "id": "KO6uVGkd0N4q",
        "outputId": "539dc1ad-3653-460c-a05e-9db956379370"
      },
      "execution_count": 12,
      "outputs": [
        {
          "output_type": "stream",
          "name": "stdout",
          "text": [
            "=== profiling vector add === \n",
            "------------ vector add on size 1024 ------------------------------------\n",
            "-------------------------  ------------  ------------  ------------  ------------  ------------  ------------  ------------  ------------  ------------  ------------  \n",
            "                     Name    Self CPU %      Self CPU   CPU total %     CPU total  CPU time avg     Self CUDA   Self CUDA %    CUDA total  CUDA time avg    # of Calls  \n",
            "-------------------------  ------------  ------------  ------------  ------------  ------------  ------------  ------------  ------------  ------------  ------------  \n",
            "         aten::zeros_like        15.67%      32.439us        70.45%     145.813us     145.813us      39.000us        23.64%     153.000us     153.000us             1  \n",
            "              aten::zero_         7.99%      16.532us        27.15%      56.199us      56.199us      18.000us        10.91%      61.000us      61.000us             1  \n",
            "         aten::empty_like         9.37%      19.386us        22.67%      46.927us      46.927us      24.000us        14.55%      53.000us      53.000us             1  \n",
            "              aten::fill_         9.65%      19.982us        16.08%      33.281us      33.281us      43.000us        26.06%      43.000us      43.000us             1  \n",
            "      aten::empty_strided        11.16%      23.104us        11.16%      23.104us      23.104us      29.000us        17.58%      29.000us      29.000us             1  \n",
            "                 aten::to         1.76%       3.650us         1.76%       3.650us       3.650us      12.000us         7.27%      12.000us      12.000us             1  \n",
            "          cudaEventRecord        22.16%      45.861us        22.16%      45.861us       3.822us       0.000us         0.00%       0.000us       0.000us            12  \n",
            "         cudaLaunchKernel        12.63%      26.136us        12.63%      26.136us      13.068us       0.000us         0.00%       0.000us       0.000us             2  \n",
            "    cudaDeviceSynchronize         9.61%      19.894us         9.61%      19.894us      19.894us       0.000us         0.00%       0.000us       0.000us             1  \n",
            "-------------------------  ------------  ------------  ------------  ------------  ------------  ------------  ------------  ------------  ------------  ------------  \n",
            "Self CPU time total: 206.984us\n",
            "Self CUDA time total: 165.000us\n",
            "\n",
            "attn values sanity check: True\n",
            "------------ vector add on size 2048 ------------------------------------\n",
            "-------------------------  ------------  ------------  ------------  ------------  ------------  ------------  ------------  ------------  ------------  ------------  \n",
            "                     Name    Self CPU %      Self CPU   CPU total %     CPU total  CPU time avg     Self CUDA   Self CUDA %    CUDA total  CUDA time avg    # of Calls  \n",
            "-------------------------  ------------  ------------  ------------  ------------  ------------  ------------  ------------  ------------  ------------  ------------  \n",
            "         aten::zeros_like         7.85%      18.475us        42.55%     100.211us     100.211us      21.000us        16.41%     126.000us     126.000us             1  \n",
            "              aten::zero_         4.66%      10.971us        17.24%      40.603us      40.603us      10.000us         7.81%      68.000us      68.000us             1  \n",
            "              aten::fill_         5.88%      13.854us        10.36%      24.404us      24.404us      58.000us        45.31%      58.000us      58.000us             1  \n",
            "         aten::empty_like         4.82%      11.339us        13.52%      31.847us      31.847us      16.000us        12.50%      37.000us      37.000us             1  \n",
            "      aten::empty_strided         6.80%      16.014us         6.80%      16.014us      16.014us      21.000us        16.41%      21.000us      21.000us             1  \n",
            "                 aten::to         0.80%       1.882us         0.80%       1.882us       1.882us       2.000us         1.56%       2.000us       2.000us             1  \n",
            "          cudaEventRecord        14.07%      33.125us        14.07%      33.125us       2.760us       0.000us         0.00%       0.000us       0.000us            12  \n",
            "         cudaLaunchKernel         7.13%      16.793us         7.13%      16.793us       8.397us       0.000us         0.00%       0.000us       0.000us             2  \n",
            "    cudaDeviceSynchronize        48.00%     113.040us        48.00%     113.040us     113.040us       0.000us         0.00%       0.000us       0.000us             1  \n",
            "-------------------------  ------------  ------------  ------------  ------------  ------------  ------------  ------------  ------------  ------------  ------------  \n",
            "Self CPU time total: 235.493us\n",
            "Self CUDA time total: 128.000us\n",
            "\n",
            "attn values sanity check: True\n",
            "------------ vector add on size 4096 ------------------------------------\n",
            "-------------------------  ------------  ------------  ------------  ------------  ------------  ------------  ------------  ------------  ------------  ------------  \n",
            "                     Name    Self CPU %      Self CPU   CPU total %     CPU total  CPU time avg     Self CUDA   Self CUDA %    CUDA total  CUDA time avg    # of Calls  \n",
            "-------------------------  ------------  ------------  ------------  ------------  ------------  ------------  ------------  ------------  ------------  ------------  \n",
            "         aten::zeros_like         1.93%      17.000us        11.01%      96.917us      96.917us      20.000us         8.66%     229.000us     229.000us             1  \n",
            "              aten::zero_         1.20%      10.587us         4.48%      39.412us      39.412us      10.000us         4.33%     174.000us     174.000us             1  \n",
            "              aten::fill_         1.50%      13.220us         2.60%      22.918us      22.918us     164.000us        71.00%     164.000us     164.000us             1  \n",
            "         aten::empty_like         1.20%      10.591us         3.51%      30.902us      30.902us      14.000us         6.06%      35.000us      35.000us             1  \n",
            "      aten::empty_strided         1.79%      15.780us         1.79%      15.780us      15.780us      21.000us         9.09%      21.000us      21.000us             1  \n",
            "                 aten::to         0.21%       1.812us         0.21%       1.812us       1.812us       2.000us         0.87%       2.000us       2.000us             1  \n",
            "          cudaEventRecord         3.92%      34.477us         3.92%      34.477us       2.873us       0.000us         0.00%       0.000us       0.000us            12  \n",
            "         cudaLaunchKernel         1.76%      15.498us         1.76%      15.498us       7.749us       0.000us         0.00%       0.000us       0.000us             2  \n",
            "    cudaDeviceSynchronize        86.48%     761.124us        86.48%     761.124us     761.124us       0.000us         0.00%       0.000us       0.000us             1  \n",
            "-------------------------  ------------  ------------  ------------  ------------  ------------  ------------  ------------  ------------  ------------  ------------  \n",
            "Self CPU time total: 880.089us\n",
            "Self CUDA time total: 231.000us\n",
            "\n",
            "attn values sanity check: True\n",
            "------------ vector add on size 8192 ------------------------------------\n",
            "-------------------------  ------------  ------------  ------------  ------------  ------------  ------------  ------------  ------------  ------------  ------------  \n",
            "                     Name    Self CPU %      Self CPU   CPU total %     CPU total  CPU time avg     Self CUDA   Self CUDA %    CUDA total  CUDA time avg    # of Calls  \n",
            "-------------------------  ------------  ------------  ------------  ------------  ------------  ------------  ------------  ------------  ------------  ------------  \n",
            "         aten::zeros_like         0.61%      34.141us         2.05%     115.397us     115.397us       9.000us         1.51%     596.000us     596.000us             1  \n",
            "              aten::zero_         0.20%      11.550us         0.70%      39.486us      39.486us       5.000us         0.84%     580.000us     580.000us             1  \n",
            "              aten::fill_         0.23%      13.014us         0.41%      22.914us      22.914us     575.000us        96.15%     575.000us     575.000us             1  \n",
            "         aten::empty_like         0.19%      10.610us         0.55%      31.255us      31.255us       5.000us         0.84%       7.000us       7.000us             1  \n",
            "      aten::empty_strided         0.28%      15.992us         0.28%      15.992us      15.992us       2.000us         0.33%       2.000us       2.000us             1  \n",
            "                 aten::to         0.03%       1.632us         0.03%       1.632us       1.632us       2.000us         0.33%       2.000us       2.000us             1  \n",
            "          cudaEventRecord         0.65%      36.580us         0.65%      36.580us       3.048us       0.000us         0.00%       0.000us       0.000us            12  \n",
            "         cudaLaunchKernel         0.29%      16.274us         0.29%      16.274us       8.137us       0.000us         0.00%       0.000us       0.000us             2  \n",
            "    cudaDeviceSynchronize        97.52%       5.497ms        97.52%       5.497ms       5.497ms       0.000us         0.00%       0.000us       0.000us             1  \n",
            "-------------------------  ------------  ------------  ------------  ------------  ------------  ------------  ------------  ------------  ------------  ------------  \n",
            "Self CPU time total: 5.636ms\n",
            "Self CUDA time total: 598.000us\n",
            "\n",
            "attn values sanity check: True\n",
            "------------ vector add on size 16384 ------------------------------------\n",
            "-------------------------  ------------  ------------  ------------  ------------  ------------  ------------  ------------  ------------  ------------  ------------  \n",
            "                     Name    Self CPU %      Self CPU   CPU total %     CPU total  CPU time avg     Self CUDA   Self CUDA %    CUDA total  CUDA time avg    # of Calls  \n",
            "-------------------------  ------------  ------------  ------------  ------------  ------------  ------------  ------------  ------------  ------------  ------------  \n",
            "         aten::zeros_like         0.06%      16.996us         0.36%      95.536us      95.536us       7.000us         0.30%       2.306ms       2.306ms             1  \n",
            "              aten::zero_         0.04%      10.911us         0.15%      38.855us      38.855us       5.000us         0.22%       2.292ms       2.292ms             1  \n",
            "              aten::fill_         0.05%      12.718us         0.09%      22.898us      22.898us       2.287ms        99.09%       2.287ms       2.287ms             1  \n",
            "         aten::empty_like         0.04%      10.194us         0.11%      30.248us      30.248us       5.000us         0.22%       7.000us       7.000us             1  \n",
            "      aten::empty_strided         0.06%      15.303us         0.06%      15.303us      15.303us       2.000us         0.09%       2.000us       2.000us             1  \n",
            "                 aten::to         0.01%       1.726us         0.01%       1.726us       1.726us       2.000us         0.09%       2.000us       2.000us             1  \n",
            "          cudaEventRecord         0.13%      34.976us         0.13%      34.976us       2.915us       0.000us         0.00%       0.000us       0.000us            12  \n",
            "         cudaLaunchKernel         0.06%      15.710us         0.06%      15.710us       7.855us       0.000us         0.00%       0.000us       0.000us             2  \n",
            "    cudaDeviceSynchronize        99.55%      26.442ms        99.55%      26.442ms      26.442ms       0.000us         0.00%       0.000us       0.000us             1  \n",
            "-------------------------  ------------  ------------  ------------  ------------  ------------  ------------  ------------  ------------  ------------  ------------  \n",
            "Self CPU time total: 26.560ms\n",
            "Self CUDA time total: 2.308ms\n",
            "\n",
            "attn values sanity check: True\n",
            "------------ vector add on size 20000 ------------------------------------\n",
            "-------------------------  ------------  ------------  ------------  ------------  ------------  ------------  ------------  ------------  ------------  ------------  \n",
            "                     Name    Self CPU %      Self CPU   CPU total %     CPU total  CPU time avg     Self CUDA   Self CUDA %    CUDA total  CUDA time avg    # of Calls  \n",
            "-------------------------  ------------  ------------  ------------  ------------  ------------  ------------  ------------  ------------  ------------  ------------  \n",
            "         aten::zeros_like         0.06%      24.444us         0.29%     117.476us     117.476us       7.000us         0.20%       3.420ms       3.420ms             1  \n",
            "              aten::zero_         0.03%      13.350us         0.11%      44.887us      44.887us       5.000us         0.15%       3.406ms       3.406ms             1  \n",
            "              aten::fill_         0.04%      15.470us         0.07%      26.498us      26.498us       3.401ms        99.39%       3.401ms       3.401ms             1  \n",
            "         aten::empty_like         0.04%      14.490us         0.09%      37.840us      37.840us       5.000us         0.15%       7.000us       7.000us             1  \n",
            "      aten::empty_strided         0.04%      18.275us         0.04%      18.275us      18.275us       2.000us         0.06%       2.000us       2.000us             1  \n",
            "                 aten::to         0.01%       2.333us         0.01%       2.333us       2.333us       2.000us         0.06%       2.000us       2.000us             1  \n",
            "          cudaEventRecord         0.09%      37.184us         0.09%      37.184us       3.099us       0.000us         0.00%       0.000us       0.000us            12  \n",
            "         cudaLaunchKernel         0.04%      17.877us         0.04%      17.877us       8.938us       0.000us         0.00%       0.000us       0.000us             2  \n",
            "    cudaDeviceSynchronize        99.65%      40.568ms        99.65%      40.568ms      40.568ms       0.000us         0.00%       0.000us       0.000us             1  \n",
            "-------------------------  ------------  ------------  ------------  ------------  ------------  ------------  ------------  ------------  ------------  ------------  \n",
            "Self CPU time total: 40.711ms\n",
            "Self CUDA time total: 3.422ms\n",
            "\n"
          ]
        },
        {
          "output_type": "stream",
          "name": "stderr",
          "text": [
            "<ipython-input-12-eb8b95636b3e>:11: FutureWarning: The attribute `use_cuda` will be deprecated soon, please use ``use_device = 'cuda'`` instead.\n",
            "  with torch.autograd.profiler.profile(use_cuda=True) as prof:\n"
          ]
        },
        {
          "output_type": "stream",
          "name": "stdout",
          "text": [
            "attn values sanity check: True\n"
          ]
        }
      ]
    }
  ]
}